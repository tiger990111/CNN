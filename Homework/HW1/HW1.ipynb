{
 "cells": [
  {
   "cell_type": "markdown",
   "metadata": {},
   "source": [
    "## Homework 1: Multilayer Feedforward Network\n",
    "\n",
    "\n",
    "**Fall 2019**<br/>\n",
    "**Instructors**: Pavlos Protopapas, David Sondak\n",
    "\n",
    "<hr style=\"height:2pt\">"
   ]
  },
  {
   "cell_type": "code",
   "execution_count": 1,
   "metadata": {},
   "outputs": [
    {
     "data": {
      "text/html": [
       "<style>\n",
       "h1 { \n",
       "    padding-top: 25px;\n",
       "    padding-bottom: 25px;\n",
       "    text-align: left; \n",
       "    padding-left: 10px;\n",
       "    background-color: #DDDDDD; \n",
       "    color: black;\n",
       "}\n",
       "h2 { \n",
       "    padding-top: 10px;\n",
       "    padding-bottom: 10px;\n",
       "    text-align: left; \n",
       "    padding-left: 5px;\n",
       "    background-color: #EEEEEE; \n",
       "    color: black;\n",
       "}\n",
       "\n",
       "div.exercise {\n",
       "\tbackground-color: #ffcccc;\n",
       "\tborder-color: #E9967A; \t\n",
       "\tborder-left: 5px solid #800080; \n",
       "\tpadding: 0.5em;\n",
       "}\n",
       "div.theme {\n",
       "\tbackground-color: #DDDDDD;\n",
       "\tborder-color: #E9967A; \t\n",
       "\tborder-left: 5px solid #800080; \n",
       "\tpadding: 0.5em;\n",
       "\tfont-size: 18pt;\n",
       "}\n",
       "div.gc { \n",
       "\tbackground-color: #AEDE94;\n",
       "\tborder-color: #E9967A; \t \n",
       "\tborder-left: 5px solid #800080; \n",
       "\tpadding: 0.5em;\n",
       "\tfont-size: 12pt;\n",
       "}\n",
       "p.q1 { \n",
       "    padding-top: 5px;\n",
       "    padding-bottom: 5px;\n",
       "    text-align: left; \n",
       "    padding-left: 5px;\n",
       "    background-color: #EEEEEE; \n",
       "    color: black;\n",
       "}\n",
       "header {\n",
       "   padding-top: 35px;\n",
       "    padding-bottom: 35px;\n",
       "    text-align: left; \n",
       "    padding-left: 10px;\n",
       "    background-color: #DDDDDD; \n",
       "    color: black;\n",
       "}\n",
       "</style>\n",
       "\n"
      ],
      "text/plain": [
       "<IPython.core.display.HTML object>"
      ]
     },
     "execution_count": 1,
     "metadata": {},
     "output_type": "execute_result"
    }
   ],
   "source": [
    "#RUN THIS CELL \n",
    "import requests\n",
    "from IPython.core.display import HTML\n",
    "styles = requests.get(\"https://raw.githubusercontent.com/Harvard-IACS/2018-CS109A/master/content/styles/cs109.css\").text\n",
    "HTML(styles)"
   ]
  },
  {
   "cell_type": "markdown",
   "metadata": {},
   "source": [
    "### INSTRUCTIONS\n",
    "\n",
    "- Please name your  file name  as `HW1-Group#.ipynb` where `Group#` is your assigned group number.\n",
    "\n",
    "- Send your completed Jupyter notebook to the course TF.\n",
    "\n",
    "- This homework can be submitted in pairs. Submit only one per group. \n",
    "\n",
    "**Names of the people in your group:**\n",
    "* \n",
    "* \n",
    "* \n",
    "<br><br>"
   ]
  },
  {
   "cell_type": "markdown",
   "metadata": {},
   "source": [
    "<div class=\"theme\"> Overview </div>\n",
    "\n",
    "In this homework, you are free to explore different ways of solving the problems -within the restrictions of the questions. Your solutions should read like a report with figures to support your statements. Please include your code cells but augment your solutions with written answers. We will also check for code readability and efficiency. In particular, we expect you to write appropriate functions so that your code can be generalized beyond the specified network architectures of this homework.\n",
    "\n",
    "For this homework you may **not** use a machine learning library such as `keras` or `tensorflow` to build and fit the network. The objective is to build the network from scratch.\n",
    "\n",
    "- The question explores approximating a function using a **Multilayer Feedforward Network** with one input layer, one hidden layer, and one output layer."
   ]
  },
  {
   "cell_type": "markdown",
   "metadata": {},
   "source": [
    "<div class=\"exercise\"> <b> Question 1: Construct a feed forward neural network [50 pts]</b> </div>\n",
    "    \n",
    "#### Problem Overview \n",
    "You will construct three feed forward neural networks each with a single hidden later.  The networks will have an input layer, one hidden layer with 1, 2 and 4 nodes respectively, and an output layer.  The hidden layer should use the sigmoid as the activation function and use a linear  output node.\n",
    "\n",
    "**You must code the equations from scratch.**  You may use Lab 1 to guide your implementation.\n",
    "\n",
    "#### Data\n",
    "You are given three datasets containing ($x,y$) points where $y=f(x)$:\n",
    "\n",
    "- In the first dataset, $f(x)$ is a **single step** function (data in`data/step_df.csv`), \n",
    "- In the second dataset, $f(x)$ is a **one hump** function (data in `data/one_hump_df.csv`),\n",
    "- In the third dataset, $f(x)$ is a **two equal humps** function (data in `data/two_hump_df.csv`).\n",
    "\n",
    "#### Questions to Answer\n",
    "**1.1** Create a plot of each dataset.  You can make separate plots, subplots, or put them all on the same plot.  Make sure your figures are clearly labeled with axes labels, titles, and legends as appropriate.<br><br>\n",
    "\n",
    "**1.2** \n",
    "* Perform a forward pass using the data for the **single step** function and a hidden layer of **one** node \n",
    "* **Manually** tune the weights\n",
    "* Plot the output from the network on the same plot as the true $f(x)$ values (from the provided dataset)\n",
    "* Continue to manually adjust the weights until you get the best agreement between the network output and $f(x)$ that you can<br><br>\n",
    "\n",
    "**1.3** Do the same thing for the **one hump** function data, this time using a hidden layer consisting of **two** nodes.<br><br>\n",
    "\n",
    "**1.4** Do the same for the **two hump** function data but this time increase the number of hidden nodes to **four**. <br><br>\n",
    "\n",
    "**1.5** \n",
    "* Choose the appropriate loss function and calculate and report the loss from parts 1.2, 1.3, and 1.4.  You can report this in a tabular form:\n",
    "\n",
    "|  Problem | Loss  |\n",
    "| :---:    | :---: |\n",
    "| 1.2      |       |\n",
    "| 1.3      |       |\n",
    "| 1.4      |       |\n",
    "\n",
    "* Derive the gradient of the output layer's weights for all three cases (step, one hump and two humps).\n",
    "  - **Note:** Your expression should be an exact mathematical expression.\n",
    "  - **Hint:** Present your answer in a Markdown cell using Latex.  To include Latex in your notebook, you can include your Latex expression between dollar signs like so: `$$ latex expression $$`.  Here is a Latex cheatsheat: [Latex Cheatsheet](https://www.nyu.edu/projects/beber/files/Chang_LaTeX_sheet.pdf).\n",
    "* Perform gradient descent to find the best weights for each case.\n",
    "  - **Note:** You should write your own gradient descent function.  You do not need to perform stochastic gradient descent.\n",
    "  - **Hint:** Use the weights for the hidden layers you found in the previous questions as an initial guess.\n",
    "* What is the optimised weight value and loss you obtained for each problem? \n",
    "* How many steps did you take to reach this value? \n",
    "* What is the threshold value you used to stop?"
   ]
  },
  {
   "cell_type": "markdown",
   "metadata": {},
   "source": [
    "### Answers"
   ]
  },
  {
   "cell_type": "markdown",
   "metadata": {},
   "source": [
    "**1.1** "
   ]
  },
  {
   "cell_type": "code",
   "execution_count": 3,
   "metadata": {
    "collapsed": true
   },
   "outputs": [],
   "source": [
    "# your code here\n"
   ]
  },
  {
   "cell_type": "markdown",
   "metadata": {},
   "source": [
    "**1.2** "
   ]
  },
  {
   "cell_type": "code",
   "execution_count": 42,
   "metadata": {
    "collapsed": true
   },
   "outputs": [],
   "source": [
    "# your code here"
   ]
  },
  {
   "cell_type": "markdown",
   "metadata": {},
   "source": [
    "**1.3** "
   ]
  },
  {
   "cell_type": "code",
   "execution_count": 43,
   "metadata": {
    "collapsed": true
   },
   "outputs": [],
   "source": [
    "# your code here\n"
   ]
  },
  {
   "cell_type": "markdown",
   "metadata": {},
   "source": [
    "**1.4**"
   ]
  },
  {
   "cell_type": "code",
   "execution_count": 44,
   "metadata": {
    "collapsed": true
   },
   "outputs": [],
   "source": [
    "# your code here\n"
   ]
  },
  {
   "cell_type": "markdown",
   "metadata": {},
   "source": [
    "**1.5** "
   ]
  },
  {
   "cell_type": "code",
   "execution_count": 45,
   "metadata": {
    "collapsed": true
   },
   "outputs": [],
   "source": [
    "# your code here\n"
   ]
  }
 ],
 "metadata": {
  "anaconda-cloud": {},
  "kernelspec": {
   "display_name": "Python 3",
   "language": "python",
   "name": "python3"
  },
  "language_info": {
   "codemirror_mode": {
    "name": "ipython",
    "version": 3
   },
   "file_extension": ".py",
   "mimetype": "text/x-python",
   "name": "python",
   "nbconvert_exporter": "python",
   "pygments_lexer": "ipython3",
   "version": "3.6.7"
  }
 },
 "nbformat": 4,
 "nbformat_minor": 1
}
