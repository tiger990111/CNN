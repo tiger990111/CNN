{
 "cells": [
  {
   "cell_type": "markdown",
   "metadata": {},
   "source": [
    "# Homework 6: Convolutional Neural Networks\n",
    "**Fall 2019**<br/>\n",
    "**Instructors**: Pavlos Protopapas, David Sondak\n",
    "\n",
    "## Due:  Saturday, November 16th at 11:59 PM EST (Boston Time)\n",
    "\n",
    "<hr style=\"height:2pt\">"
   ]
  },
  {
   "cell_type": "code",
   "execution_count": 1,
   "metadata": {},
   "outputs": [
    {
     "data": {
      "text/html": [
       "<style>\n",
       "h1 { \n",
       "    padding-top: 25px;\n",
       "    padding-bottom: 25px;\n",
       "    text-align: left; \n",
       "    padding-left: 10px;\n",
       "    background-color: #DDDDDD; \n",
       "    color: black;\n",
       "}\n",
       "h2 { \n",
       "    padding-top: 10px;\n",
       "    padding-bottom: 10px;\n",
       "    text-align: left; \n",
       "    padding-left: 5px;\n",
       "    background-color: #EEEEEE; \n",
       "    color: black;\n",
       "}\n",
       "\n",
       "div.exercise {\n",
       "\tbackground-color: #ffcccc;\n",
       "\tborder-color: #E9967A; \t\n",
       "\tborder-left: 5px solid #800080; \n",
       "\tpadding: 0.5em;\n",
       "}\n",
       "div.theme {\n",
       "\tbackground-color: #DDDDDD;\n",
       "\tborder-color: #E9967A; \t\n",
       "\tborder-left: 5px solid #800080; \n",
       "\tpadding: 0.5em;\n",
       "\tfont-size: 18pt;\n",
       "}\n",
       "div.gc { \n",
       "\tbackground-color: #AEDE94;\n",
       "\tborder-color: #E9967A; \t \n",
       "\tborder-left: 5px solid #800080; \n",
       "\tpadding: 0.5em;\n",
       "\tfont-size: 12pt;\n",
       "}\n",
       "p.q1 { \n",
       "    padding-top: 5px;\n",
       "    padding-bottom: 5px;\n",
       "    text-align: left; \n",
       "    padding-left: 5px;\n",
       "    background-color: #EEEEEE; \n",
       "    color: black;\n",
       "}\n",
       "header {\n",
       "   padding-top: 35px;\n",
       "    padding-bottom: 35px;\n",
       "    text-align: left; \n",
       "    padding-left: 10px;\n",
       "    background-color: #DDDDDD; \n",
       "    color: black;\n",
       "}\n",
       "</style>\n",
       "\n"
      ],
      "text/plain": [
       "<IPython.core.display.HTML object>"
      ]
     },
     "execution_count": 1,
     "metadata": {},
     "output_type": "execute_result"
    }
   ],
   "source": [
    "#RUN THIS CELL \n",
    "import requests\n",
    "from IPython.core.display import HTML\n",
    "styles = requests.get(\"https://raw.githubusercontent.com/Harvard-IACS/2018-CS109A/master/content/styles/cs109.css\").text\n",
    "HTML(styles)"
   ]
  },
  {
   "cell_type": "markdown",
   "metadata": {},
   "source": [
    "### INSTRUCTIONS\n",
    "\n",
    "- Please name your file name  as `HW2-Group#.ipynb` where `Group#` is your assigned group number.\n",
    "- Send your completed Jupyter notebook to the course TF.\n",
    "- This homework can be submitted in groups. Submit only one per group.\n",
    "- There are some specific instructions for each problem.  Make sure you carefully read them.\n",
    "\n",
    "**Names of the people in your group:**\n",
    "* \n",
    "* \n",
    "* \n",
    "<br><br>"
   ]
  },
  {
   "cell_type": "markdown",
   "metadata": {},
   "source": [
    "## Problem 1: Convolutional Neural Network Basics\n",
    "\n",
    "In convolutional neural networks, a convolution is a multiplicative operation on a local region of values. Convolutional layers have been very useful in image classification, as it allows the network to retain local spatial information for feature extraction."
   ]
  },
  {
   "cell_type": "markdown",
   "metadata": {},
   "source": [
    "### Part A: Understanding Convolutional Operations"
   ]
  },
  {
   "cell_type": "markdown",
   "metadata": {},
   "source": [
    "For the following 2D matrix:\n",
    "\n",
    "| &nbsp;   |   &nbsp;   |   &nbsp;   |\n",
    "|:--:| :--: | :--: |\n",
    "|1|2|2|\n",
    "|3|1|2|\n",
    "|4|1|0|\n",
    "\n",
    "Use the following 2x2 kernel to perform a 2D convolution on the matrix:\n",
    "\n",
    "| &nbsp; |&nbsp; |\n",
    "|--|--|\n",
    "|2|1|\n",
    "|1|2|\n",
    "\n",
    "#### Deliverables\n",
    "* Compute this operation by hand assuming \n",
    "  a) valid\n",
    "  b) same (padding on top and left)\n",
    "  c) full border modes\n",
    "* Please indicate what the resulting matrix shape is compared to the original shape. Why?\n",
    "* Display the final matrix for each case."
   ]
  },
  {
   "cell_type": "markdown",
   "metadata": {},
   "source": [
    "### Part B: Understanding Pooling Operations\n",
    "\n",
    "Pooling operations are used in convolutional neural networks to reduce the dimensionality of the feature maps and overall network complexity. Two main types of pooling are used in CNNs: AveragePooling and MaxPooling.\n",
    "\n",
    "**Using the matrix below, write the output of the AveragePooling and MaxPooling operations with a pool size of 2 and stride 2. Then, write the outputs for the same operations, except with a stride size of 1.**\n",
    "\n",
    "\n",
    "| &nbsp; | &nbsp; | &nbsp; | &nbsp; |\n",
    "|--|--|--|--|\n",
    "|1|2|2|4|\n",
    "|3|1|2|1|\n",
    "|4|1|0|2|\n",
    "|5|2|2|1|\n",
    "\n",
    "#### Deliverables\n",
    "- Display output results for each case.  Make sure each case is labeled clearly."
   ]
  },
  {
   "cell_type": "markdown",
   "metadata": {},
   "source": [
    "### Part C: Puppy Example"
   ]
  },
  {
   "cell_type": "markdown",
   "metadata": {},
   "source": [
    "Consider the following image of a dog (`dog.jpg` in the directory):\n",
    "\n",
    "![dog](figs/dog.jpg)\n",
    "\n",
    "#### Preprocessing\n",
    "Load the image as a 2D `Numpy` array. Normalize the image so that values fall within [-0.5, 0.5].\n",
    "\n",
    "**Hints**\n",
    "* To normalize the image to have values between 0 and 1, simply divide by 255 (the largest pixel value possible)\n",
    "* Subtracting 0.5 will guarantee that the values are between -0.5 and 0.5\n",
    "\n",
    "#### Main code\n",
    "You will create a plot of 5 images (use `fig, ax = plt.subplots(1,5, figsize=(30,30))`.  The first image on the left will be the original image.  The next four images should be generated as follows:\n",
    "\n",
    "**1. Randomly generate a 3x3 kernel.**\n",
    "\n",
    "**2. Use this kernel and convolve over the image with same border mode (with [`scipy.signal.convolve2d`](https://docs.scipy.org/doc/scipy/reference/generated/scipy.signal.convolve2d.html)).**\n",
    "\n",
    "**3. In the resulting image, set all pixel values less than zero to zero (using `np.clip()`).**\n",
    "\n",
    "In other words:\n",
    "```python\n",
    "if x < 0:\n",
    "    x = 0\n",
    "else:\n",
    "    x = x\n",
    "```\n",
    "\n",
    "(This is the `ReLU` activation function.)\n",
    "\n",
    "**4. Plot the image.**\n",
    "\n",
    "Take a moment to examine the convolved images. You should see that certain features in the puppy are accentuated, while others are de-emphasized.\n",
    "\n",
    "#### Remarks\n",
    "* All code should be in a single cell"
   ]
  },
  {
   "cell_type": "markdown",
   "metadata": {},
   "source": [
    "## Problem 2: Running a Convolutional Neural Network\n",
    "You will build and run a convolutional neural network.\n",
    "\n",
    "### Important Instructions\n",
    "* Put all code from parts A, B, and C into a single cell.  We should be able to copy that cell into a `.py` file and run it like a normal script.\n",
    "* You may use a GPU to do part B (training the model).  Although this isn't required, it is recommended.\n",
    "* You can use this as an opportunity to use a GPU instance on AWS.  Here are some instructions:\n",
    "  - Go to AWS and Launch a new EC2 instance\n",
    "  - Click on `Community AMIs` and in the search field type `Keras`\n",
    "  - Select **Deep Learning AMI (Ubuntu) Version 17.0**\n",
    "    * Note:  It's okay if you choose a different version, but I'd recommend using the latest version\n",
    "  - In `Step 2: Choose an Instance Type` select a **g3.4xlarge** instance.\n",
    "    * ![](figs/gpu_instance.png)\n",
    "    * **IMPORTANT**: You may use a different GPU instance, but you **MUST** explicitely state which instance you are using.  If you don't tell us the exact instance you are using, we may not be able to reproduce your results and you will receive no credit on this problem.\n",
    "  - When you get to `Step 6: Configure Security Group`, you have some decisions to make.\n",
    "    * Option 1: Keep the default security group.  You will be able to launch the instance, `ssh` to it, and run jobs on it, but you won't be able to open a `Juptyer` notebook from the instance.\n",
    "    * Option 2: Add a new security group like we did in Lab 3.  Be sure to follow the Lab3 instructions carefully!\n",
    "  - Choose the correct authentication key and launch the instance!\n",
    "* After you connect to your instance (via `ssh`) enter the following command:  `source activate tensorflow_p36`.  Now you will be in a virtual environment that has `Keras` with GPU support.  You're ready to go!\n",
    "* If you want to launch a `Jupyter` notebook from the instance, you still have some more steps to complete.  Refer to the Lab3 instructions for details.\n",
    "\n",
    "#### Additional Resources\n",
    "Here are a few more `AWS` resources:\n",
    "- [`AWS` and `Keras`](https://docs.aws.amazon.com/dlami/latest/devguide/tutorial-keras.html)\n",
    "- [Using the Deep Learning `AMI` with `Conda`](https://docs.aws.amazon.com/dlami/latest/devguide/tutorial-conda.html)\n",
    "\n",
    "There are many more resources out there.  If these aren't sufficient for you (and Lab3 doesn't help either), then you should try to search the web for more resources."
   ]
  },
  {
   "cell_type": "markdown",
   "metadata": {},
   "source": [
    "\n",
    "### Part A: Building the Model\n",
    "\n",
    "In this first part, you will create a convolutional neural network using `Keras` to predict the type of object in an image. Load the [CIFAR-10](https://keras.io/datasets/#cifar10-small-image-classification) dataset, which contains 50,000 32x32 training images and 10,000 test images of the same size, with a total of 10 sizes.\n",
    "\n",
    "Use a combination of the [following layers](https://keras.io/layers/convolutional/): Conv2D, MaxPooling2D, Dense, Dropout and Flatten Layers (not necessarily in this order).\n",
    "You may use an existing architecture like AlexNet or VGG16, or create one of your own design. However, you should write your own layers and not use a pre-written implementation.\n",
    "To get you started, we have included a model with one convolutional layer.\n",
    "\n",
    "Convolutional neural networks are very computationally intensive. We highly recommend that you train your model on using GPUs (using `JupyterHub` or `AWS`). On CPUs, this training can take up to several hours. On GPUs, it can be done within minutes.\n",
    "\n",
    "#### Deliverables\n",
    "\n",
    "1. **Print model.summary() and report the total number of parameters.**\n",
    "\n",
    "2. **How does the number of total parameters change (linearly, exponentially) as the number of filters per layer increases?**\n",
    "  - For instance, start by assigning 32 filters to each Conv2D layer, then 64, 128, etc. and recording the total number of parameters for each model.\n",
    "\n",
    "3. **Generate a plot showing the relationship from question 2 and explain why.**\n",
    "   - Note:  If you're developing your code on an `AWS` instance without `Jupyter` notebook, then you don't need to display the figure.  You can remove `plt.show()` at the end of you script.  When we run your script, we will be able to see your plot.\n",
    "\n",
    "**Hint**: Each convolutional layer contains the following number of parameters:\n",
    "\n",
    "$$\n",
    "\\text{# filters} \\times \\text{kernel width} \\times \\text{kernel height} \\times \\text{# input filters} + \\text{# filters} \\times 1 \\text{(for the bias)}\n",
    "$$\n",
    "\n",
    "So for instance, let's say my first convolutional layer has 32 filters with 3x3 size kernels. The input tensor has 3 filters (one for each RGB color channel), so we have:\n",
    "\n",
    "$$\n",
    "\\text{32 filters} \\times \\text{3 kernel width} \\times \\text{3 kernel height} \\times \\text{3 input filters} + \\text{32 filters} \\times 1 = 896 \\text{ parameters}.\n",
    "$$"
   ]
  },
  {
   "cell_type": "markdown",
   "metadata": {},
   "source": [
    "### Part B: Training and Evaluating the Model\n",
    "Now train your model. You can choose to train your model for as long as you'd like, but you should aim for at least 10 epochs. Your validation accuracy should exceed 70%. Training for 10 epochs on a CPU should take about 30-60 minutes."
   ]
  },
  {
   "cell_type": "markdown",
   "metadata": {},
   "source": [
    "### Part C: Visualizing the Feature Maps\n",
    "\n",
    "We would also like to examine the feature maps that are produced by the intermediate layers of the network.\n",
    "\n",
    "**Using your model, extract 9 feature maps from an intermediate convolutional layer of your choice and plot the images in a 3x3 grid. Plot your original input image in a separte figure.**\n",
    "\n",
    "You may use the following helper function `get_feature_maps()` to extract weights.\n",
    "\n",
    "```python\n",
    "def get_feature_maps(model, layer_id, input_image):\n",
    "    model_ = Model(inputs=[model.input], outputs=[model.layers[layer_id].output])\n",
    "    return model_.predict(np.expand_dims(input_image, axis=0))[0,:,:,:].transpose((2,0,1))\n",
    "```"
   ]
  }
 ],
 "metadata": {
  "celltoolbar": "Raw Cell Format",
  "kernelspec": {
   "display_name": "Python 3",
   "language": "python",
   "name": "python3"
  },
  "language_info": {
   "codemirror_mode": {
    "name": "ipython",
    "version": 3
   },
   "file_extension": ".py",
   "mimetype": "text/x-python",
   "name": "python",
   "nbconvert_exporter": "python",
   "pygments_lexer": "ipython3",
   "version": "3.6.7"
  }
 },
 "nbformat": 4,
 "nbformat_minor": 1
}
