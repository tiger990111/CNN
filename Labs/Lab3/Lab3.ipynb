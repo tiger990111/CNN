{
 "cells": [
  {
   "cell_type": "markdown",
   "metadata": {},
   "source": [
    "# Lab 3: Working with Amazon Web Services\n",
    "\n",
    "## Date:  Sunday, October 27th 2019\n",
    "\n",
    "#### Authors: David Sondak and Pavlos Protopapas\n",
    "\n",
    "The main goal of this lab is to get you up and running on Amazon Web Services (AWS).  This lab provides detailed instructions on setting up an AWS instance.  Once you have an instance running, we show you how to connect to the instance from your terminal with some basic Unix commands.  Following this, you are instructed on how to launch an instance with packages pre-installed for deep learning.  Finally, we show you to start a Jupyter notebook from an AWS instance and how to connect to it in a browser.  If time permits, you will be asked to use that instance to do some simple exercises."
   ]
  },
  {
   "cell_type": "markdown",
   "metadata": {},
   "source": [
    "## Part 1: Setting up AWS\n",
    "You should already have an account on AWS.  If you signed up for an educate account, you should have been given some free credits so you won't be charged for some simple AWS instances.\n",
    "\n",
    "The following setup instructions are adapted from **Ignacio Llorente**."
   ]
  },
  {
   "cell_type": "markdown",
   "metadata": {},
   "source": [
    "### 1. Create a key pair to connect to the cloud Virtual Machines (VMs)\n",
    "  * Login to AWS, go to the EC2 dashboard, select “key pairs” on the left hand menu, and click “Create Key Pair”. We recommend you named it `harvard_dl-key`.\n",
    "  * Download the private key locally and copy it to the `.ssh` folder. In my case, and for illustration:\n",
    "  ```sh\n",
    "  mv $HOME/Downloads/harvard_dl-key.pem $HOME/.ssh/harvard_dl-key.pem\n",
    "  ```\n",
    "  * Change the permission of the file\n",
    "  ```sh\n",
    "  chmod 600 $HOME/.ssh/harvard_dl-key.pem\n",
    "  ```\n",
    "  * Remember (or write down) the key path and name `$HOME/.ssh/coursekey.pem`"
   ]
  },
  {
   "cell_type": "markdown",
   "metadata": {},
   "source": [
    "### 2. Launch a Virtual Machine\n",
    "  * Go to the EC2 dashboard and click `Launch Instance`\n",
    "    1. Select \"Ubuntu Server\"(\"Free Tier Eligible\")\n",
    "    2. Select \"t2.micro\" as instance type (\"Free Tier Eligible\")\n",
    "    3. Click \"Next\" in the bottom right corner to modify the configurations\n",
    "      - Use default configurations for the rest of steps\n",
    "      - At the end you'll click the `Launch` button in the lower-right corner\n",
    "    4. Select your key pair and click \"Launch Instances\"\n",
    "    5. Go to \"Running Instances\" in EC2 Dashboard and wait for the VM to be \"running\"\n",
    "\n",
    "**Note:  It can take a few minutes for the instance to be ready so that you can connect to it.**\n",
    "\n",
    "#### A Note on Pricing\n",
    "In this part, you are using a `t2.micro` instance, which is free.  Notice, however, that it is also very small and limited in what it can do.  AWS has many, many instances for your use, but they come at a price.  To see the pricing of Amazon EC2 instances, refer to this page:  [Amazon EC2 Pricing](https://aws.amazon.com/ec2/pricing/on-demand/)."
   ]
  },
  {
   "cell_type": "markdown",
   "metadata": {},
   "source": [
    "### 3. Login to the Virtual Machine\n",
    "After you launch your instance, you can connect to it and use it the way that you'd use a computer sitting in front of you. Check that your instance has passed its status checks - you can view this information in the `Status Checks` column on the `Instances` page.\n",
    "\n",
    "#### Linux\n",
    "To connect to your Linux instance from a computer running Mac or Linux, you'll specify the `.pem` file to your `SSH` client with the `-i` option and the path to your private key.\n",
    "\n",
    "* Select the instance, and then choose Connect\n",
    "* Execute the `ssh` command from a terminal to login to your virtual machine.  The command will be similar to: `ssh -i $HOME/.ssh/harvard_dl-key.pem ubuntu@ec2-18-188-66-250.us-east-2.compute.amazonaws.com`\n",
    "* To exit from the instance, just type `exit`.\n",
    "\n",
    "#### Windows\n",
    "To connect to your Linux instance from a computer running Windows, you can use either MindTerm or PuTTY. If you plan to use PuTTY, you'll need to install it and use the following procedure to convert the `.pem` file to a `.ppk` file:\n",
    "[Connecting to Your Linux Instance from Windows Using PuTTY](https://docs.aws.amazon.com/AWSEC2/latest/UserGuide/putty.html)\n",
    "\n",
    "#### Important\n",
    "Note that even after you exit the terminal, your Amazon instance will still be active.  You **MUST** get in the habit of **stopping** your instance from the EC2 dashboard when you are done working.  If you don't do this, then your instance will continue to run and you will incur charges.\n",
    "\n",
    "Note that *stopping* an instance is not the same as *terminating* an instance.  Termination will remove the instance from the dashboard entirely.  Stopping the instance allows you to restart it and use it again."
   ]
  },
  {
   "cell_type": "markdown",
   "metadata": {},
   "source": [
    "## Part 2: Creating an AWS Instance for Deep Learning\n",
    "In part 1, you learned how to create and access and instance on AWS.  This is great for your daily computing needs.  We didn't get into it, but you can manually install all the packages you want on your instance.  Having said this, it would be really great it there were some instances that came with pre-installed packages for specific computing needs.  AWS has responded to this need and provides instances tailored to specific cases.  In this part, you will launch an instance that has packages for machine learning such as `keras`.\n",
    "\n",
    "These instructions closely follow the instructions at [Deep Learning Environments](https://towardsdatascience.com/boost-your-machine-learning-with-amazon-ec2-keras-and-gpu-acceleration-a43aed049a50)."
   ]
  },
  {
   "cell_type": "markdown",
   "metadata": {},
   "source": [
    "### 1. Launch an AWS Instance\n",
    "* Go to the EC2 dashboard\n",
    "* Click `Launch Instance`\n",
    "* Click the `Community AMIs` tab on the left side\n",
    "* A search bar will appear at the top.  Search for `keras`.\n",
    "* You should see some options including an Ubuntu instance.  For example, I chose `Deep Learning AMI (Ubuntu 18.04) Version 25.0 `\n",
    "  - This instance has `keras`, dependencies, and supporting modules.\n",
    "* Select the `t2.micro` instance\n",
    "  - For many real applications, this instance is not sufficient.  We are using it for demonstration purposes today.\n",
    "* In the bottom-right corner, click `Next` until you get to Step 4:  Add Storage\n",
    "  - The default storage size is not eligible for the free tier.  However, this is the necessary storage to launch the instance we're trying to run\n",
    "  ![](figs/storage.png)\n",
    "  - Here is some storage pricing: [EBS Pricing](https://aws.amazon.com/ebs/pricing/?nc=sn&loc=3)\n",
    "* In the bottom-right corner, click `Next` until you get to Step 6:  Configure Security Group\n",
    "* We need to set up the security group so that we can run a remote Jupyter notebook\n",
    "  - Click `Add Rule`\n",
    "  - Create a `Custom TCP Rule`\n",
    "  - Enter `8888` for `Port Range`\n",
    "  - Choose `My IP` for `Source`\n",
    "  ![](figs/security_group.png)\n",
    "* Click `Review and Launch`, review the instance, and then launch it\n",
    "* Select your course security key (same as in Part 1) and click `Launch Instance`\n",
    "* The instance should start running soon"
   ]
  },
  {
   "cell_type": "markdown",
   "metadata": {},
   "source": [
    "### 2. Login to Your Deep Learning Instance\n",
    "* Go to the EC2 dashboard, select your new (now running) deep learning instance, and click `Connect`\n",
    "* Copy the `ssh` command\n",
    "* Just like in Part 1, open a terminal and type something like `ssh -i ~/.ssh/harvard_dl-key.pem ubuntu@ec2-18-191-133-91.us-east-2.compute.amazonaws.com`\n",
    "* It may take a little while to login, but eventually you should see a screen like the following:\n",
    "![](figs/instance_login.png)\n",
    "* What you're seeing is a list of `conda` environments that we can access on this instance."
   ]
  },
  {
   "cell_type": "markdown",
   "metadata": {},
   "source": [
    "## Part 3: Launching `Jupyter` Notebook\n",
    "* Type `source activate tensorflow_p36`\n",
    "  - This launches `keras2` on a `TensorFlow` backend on `Python 3`\n",
    "  - This might take a minute or two the first time you do it\n",
    "* Now type `jupyter notebook --no-browser --port=8888` to launch a `Jupyter` notebook (without a browser!)\n",
    "* You should be assigned a token.  Copy it!  You will need it later.\n",
    "* Now open a new terminal and `ssh` into the `Jupyter` tunnel (see [Configure a MacOS Client](https://docs.aws.amazon.com/dlami/latest/devguide/setup-jupyter-configure-client-mac.html) for more details)\n",
    "  - You'll have to type the following command:  `ssh -i ~/keras.pem -L 8157:127.0.0.1:8888 ubuntu@ec2-###-##-##-###.compute.amazonaws.com`\n",
    "  - **Note:** You can get the # symbols for your instance by clicking on `Connect` on your EC2 dashboard\n",
    "  - **Note:** Instead of using `~/keras.pem` you should use whatever key you created in Part 1.\n",
    "* Next type `http://127.0.0.1:8157` into your browser\n",
    "* You will be prompted for a token authentication.  Paste the token into the *Password or token* field\n",
    "* If all goes well, you will see a `Jupyter` notebook environment open up\n",
    "\n",
    "### IMPORTANT\n",
    "If you are running a Windows machine, please consult instructions at [Configure a Windows Client](https://docs.aws.amazon.com/dlami/latest/devguide/setup-jupyter-configure-client-windows.html)."
   ]
  },
  {
   "cell_type": "markdown",
   "metadata": {},
   "source": [
    "## Part 4:  Using `keras` on AWS Instance\n",
    "Open a new `Python3` notebook on your instance.  Name it `Lab3_Practice`.\n",
    "\n",
    "Try to train a neural network on the function $f_{1}\\left(x\\right) = x\\sin\\left(x\\right)$ *or* $f_{2}\\left(x\\right) = \\left|x\\right|$.  This exercise is open-ended.  Try to repeate some of the analysis from Lab2."
   ]
  },
  {
   "cell_type": "markdown",
   "metadata": {},
   "source": [
    "## Part 5: Copying Files to a Local Machine\n",
    "At this point, you have learned how to create and launch basic AWS EC2 instances, how to launch specialized instances for deep learning applications, and how to launch a `Jupyter` notebook from your instances.  You have even created a simple notebook for practice.\n",
    "\n",
    "#### What if you want to copy that notebook to your local machine?\n",
    "\n",
    "You can use standard `Unix` commands, like `scp`.  Here's how to copy your new notebook to your local machine:  `scp -i ~/.ssh/harvard_dl-key.pem ubuntu@ec2-3-16-22-11.us-east-2.compute.amazonaws.com:~/Lab3_Practice.ipynb .`\n",
    "\n",
    "**Notes:**\n",
    "* You will need to change the remote machine name to your specific instance name.\n",
    "* The `-i` option is necessary, otherwise you will not have permission to access the remote machine.\n",
    "* The `.` just means that you're copying the file to the current directory on your local machine.\n",
    "\n",
    "#### What if you want to copy something from your local machine to the remote machine?\n",
    "\n",
    "Once again, you can use `scp`.  Suppose I have a file called `README.md` and want to copy it to my remote instance.  Simply execute the command `scp -i ~/.ssh/harvard_dl-key.pem README.md ubuntu@ec2-3-16-22-11.us-east-2.compute.amazonaws.com:`.\n",
    "\n",
    "**Notes:**\n",
    "* This time, you put the file you want to copy in front of the destination.\n",
    "* The `:` is very important.  It tells the system that the location is remote.\n",
    "* You could have put a different path after the `:`.  Without anything, the default is just the home directory."
   ]
  }
 ],
 "metadata": {
  "kernelspec": {
   "display_name": "Python 3",
   "language": "python",
   "name": "python3"
  },
  "language_info": {
   "codemirror_mode": {
    "name": "ipython",
    "version": 3
   },
   "file_extension": ".py",
   "mimetype": "text/x-python",
   "name": "python",
   "nbconvert_exporter": "python",
   "pygments_lexer": "ipython3",
   "version": "3.6.7"
  }
 },
 "nbformat": 4,
 "nbformat_minor": 2
}
